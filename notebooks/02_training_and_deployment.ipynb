{
 "cells": [
  {
   "cell_type": "markdown",
   "metadata": {},
   "source": [
    "# (02) Data balancing, PCA, training & deployment strategy\n",
    "<div class=\"alert alert-info\"> <p> To train the breast cancer tumor classification model, a scikit-learn pipeline-based approach will be used. For our initial analysis, we preprocessed the data—which included normalization, data balancing (using SMOTE), and dimensionality reduction via PCA—to evaluate performance and compare methods. </p> </div> <div class=\"alert alert-info\"> <b style=\"font-size: 1.5em;\">🔍 Training Strategy</b> <p> In the final training process, we will start from scratch using the raw data. The entire data transformation pipeline (normalization, balancing, and PCA) will be integrated directly into the training pipeline. This approach ensures that the same pre-processing steps are automatically applied to new data during inference, maintaining consistency and reproducibility. </p> <ol> <li> <b>Data Preprocessing:</b> <ul> <li><b>Train-Test Split:</b> The raw dataset will be split into training and test sets using stratification to maintain the class distribution.</li> <li><b>Normalization:</b> A StandardScaler will be fitted on the training data and used to transform both training and test sets.</li> <li><b>Balancing:</b> SMOTE will be applied to the training data to correct for class imbalance.</li> <li><b>PCA:</b> Dimensionality reduction will be performed on the balanced data to extract the most informative components.</li> </ul> </li> <li> <b>Model Training:</b> <ul> <li> A stacking classifier will be employed, combining several base models: <ul> <li><b>Logistic Regression</b>: A linear model for interpretability.</li> <li><b>Random Forest</b>: A tree-based model capable of capturing non-linear relationships.</li> <li><b>XGBoost Classifier</b>: A boosting model with regularization to improve predictive power.</li> </ul> </li> <li> <b>Meta-Model:</b> Logistic Regression will serve as the meta-model, combining the predictions from the base models. </li> <li> <b>Hyperparameter Tuning:</b> GridSearchCV (or RandomizedSearchCV) will be used along with StratifiedKFold cross-validation to optimize the hyperparameters for both the base models and the meta-model. </li> </ul> </li> <li> <b>Evaluation:</b> <ul> <li><b>Classification Report:</b> To provide precision, recall, f1-score, and support for each class.</li> <li><b>ROC AUC Score:</b> To measure the model’s ability to discriminate between classes across various thresholds.</li> <li><b>Accuracy Score:</b> To indicate the overall percentage of correct predictions.</li> </ul> </li> <li> <b>Model Packaging for Deployment:</b> <ul> <li>The final model will be saved along with the pre-processing objects (the scaler and PCA) so that new, raw data can be automatically transformed in the same way during inference.</li> </ul> </li> </ol> <p> This integrated approach—starting from raw data and applying the full pipeline of transformations—ensures that the model receives data in the same format it was trained on, thereby avoiding discrepancies and biases during production predictions. </p> </div>"
   ]
  },
  {
   "cell_type": "markdown",
   "metadata": {},
   "source": [
    "### importing libraries, modules and dataset"
   ]
  },
  {
   "cell_type": "code",
   "execution_count": 1,
   "metadata": {},
   "outputs": [],
   "source": [
    "#libraries\n",
    "\n",
    "import os\n",
    "import pandas as pd\n",
    "import sys\n",
    "import joblib"
   ]
  },
  {
   "cell_type": "code",
   "execution_count": 2,
   "metadata": {},
   "outputs": [],
   "source": [
    "# root directory (to be able to import modules outside the current directory)\n",
    "#os.chdir('..')  \n",
    "ROOT_DIR = os.path.abspath('..')\n",
    "sys.path.append(ROOT_DIR)\n",
    "\n",
    "# own modules\n",
    "from utils.utils_load_data import Loader\n",
    "from utils.utils_initial_exploration import InitialExploration\n",
    "from utils.utils_categorical_plots   import CategoricalPlots\n",
    "from utils.utils_training_funcs      import TrainingFuncs\n",
    "from utils.utils_list_and_dicts      import ListAndDicts\n",
    "from utils.utils_deployment_funcs    import DeploymentFuncs"
   ]
  },
  {
   "cell_type": "code",
   "execution_count": 3,
   "metadata": {},
   "outputs": [],
   "source": [
    "# instances\n",
    "loader      = Loader()\n",
    "initial_exp = InitialExploration()\n",
    "catplots    = CategoricalPlots()\n",
    "training    = TrainingFuncs()\n",
    "list_dict   = ListAndDicts()\n",
    "deploy      = DeploymentFuncs()"
   ]
  },
  {
   "cell_type": "code",
   "execution_count": 4,
   "metadata": {},
   "outputs": [],
   "source": [
    "# plot appereance\n",
    "initial_exp.load_appereance()"
   ]
  },
  {
   "cell_type": "code",
   "execution_count": 5,
   "metadata": {},
   "outputs": [],
   "source": [
    "df_raw = loader.load_data(file_name='breast_disease', dir= 'raw', copy= True)\n",
    "df_raw.drop(columns= ['Unnamed: 32', 'id'], inplace= True)\n",
    "df_raw['diagnosis'] = df_raw['diagnosis'].map({'B': 0, 'M': 1})\n"
   ]
  },
  {
   "cell_type": "markdown",
   "metadata": {},
   "source": [
    "### start of the analysis\n",
    "\n",
    "\n",
    "\n"
   ]
  },
  {
   "cell_type": "markdown",
   "metadata": {},
   "source": [
    "## (2.1) preprocesing, Data balancing, PCA + training"
   ]
  },
  {
   "cell_type": "code",
   "execution_count": 6,
   "metadata": {},
   "outputs": [
    {
     "name": "stdout",
     "output_type": "stream",
     "text": [
      "shape: (569, 31)\n"
     ]
    },
    {
     "data": {
      "text/plain": [
       "diagnosis\n",
       "0    357\n",
       "1    212\n",
       "Name: count, dtype: int64"
      ]
     },
     "execution_count": 6,
     "metadata": {},
     "output_type": "execute_result"
    }
   ],
   "source": [
    "#diagnosis mapping (B = 0, M = 1)\n",
    "print(f'shape: {df_raw.shape}')\n",
    "df_raw['diagnosis'].value_counts()"
   ]
  },
  {
   "cell_type": "code",
   "execution_count": 7,
   "metadata": {},
   "outputs": [
    {
     "data": {
      "text/plain": [
       "Index(['diagnosis', 'radius_mean', 'texture_mean', 'perimeter_mean',\n",
       "       'area_mean', 'smoothness_mean', 'compactness_mean', 'concavity_mean',\n",
       "       'concave points_mean', 'symmetry_mean', 'fractal_dimension_mean',\n",
       "       'radius_se', 'texture_se', 'perimeter_se', 'area_se', 'smoothness_se',\n",
       "       'compactness_se', 'concavity_se', 'concave points_se', 'symmetry_se',\n",
       "       'fractal_dimension_se', 'radius_worst', 'texture_worst',\n",
       "       'perimeter_worst', 'area_worst', 'smoothness_worst',\n",
       "       'compactness_worst', 'concavity_worst', 'concave points_worst',\n",
       "       'symmetry_worst', 'fractal_dimension_worst'],\n",
       "      dtype='object')"
      ]
     },
     "execution_count": 7,
     "metadata": {},
     "output_type": "execute_result"
    }
   ],
   "source": [
    "df_raw.columns"
   ]
  },
  {
   "cell_type": "markdown",
   "metadata": {},
   "source": [
    "## (2.1) Training"
   ]
  },
  {
   "cell_type": "code",
   "execution_count": 8,
   "metadata": {},
   "outputs": [],
   "source": [
    "# NOTE: Not use this code\n",
    "# training_results = training.stacking_model_training(df= df_balanced,\n",
    "#                                                     target_col= 'diagnosis',\n",
    "#                                                     output_file_name= 'stacking_model_09',\n",
    "#                                                     test_size= 0.2,\n",
    "#                                                     )\n",
    "\n",
    "# increase recall of malignant (7% FN [recall],4% FP [precision])\n",
    "# adjust the desicion threshold to prioritize sensitivity (recall) over precision"
   ]
  },
  {
   "cell_type": "markdown",
   "metadata": {},
   "source": [
    "<div class=\"alert alert-warning\">\n",
    "    <b style=\"font-size: 1.5em;\">⛔ Updated Strategy</b>\n",
    "    <p>In the initial version, the GridSearchCV-optimized model <b>achieved quite good results</b>:</p>\n",
    "    <ul><li>The prediction of benign (0) class <b>reached almost 100%</b><i>(without data leakage)</i>, while the recall for the malignant (1) class was around <b>80%</b></li></ul>\n",
    "    <p>Since it is critical to minimize false negatives (FN) in the malignant class in medical applications, <b>additional training iterations were performed.</b></p>\n",
    "    <ul>\n",
    "        <li>we will incorporate changes on the hyperparameters & the <b>ROC AUC</b> changed to custom <b>recall-based scorer</b> <i>(focused on the malignant class), with the aim of increasing its recall performances in Malignant (1) class</i></li>\n",
    "    </ul>\n",
    "</div>\n",
    "<div class=\"alert alert-info\">\n",
    "   <p><i>But we already had a model whose performance was alreadyquite good, why keep trying to improve it?</i></p>\n",
    "   <ul>\n",
    "        <li>Although good result were already obtainde in previous versions <i>(for example 93% in global recall for malignant improving the first model)</i> in the medical field it is essential to <b>achieve at leat 95% sensitivity in detection of malignant tumors</b></li>\n",
    "        <li>The justification is clear: A false negative (FN) in this context <b>can delay critical treatments in early stages of the disease</b></li>\n",
    "   </ul>\n",
    "   <p>The updated strategy focuses on:</p>\n",
    "   <ul>\n",
    "        <li>Optimizing the model to maximize recall in the malignant class, without significantly sacrificing performance in benign class</li>\n",
    "        <li>Stacking classifier such as the first method tryed, the base models were adjusted: </li>\n",
    "        <ul>\n",
    "            <li><b>Logistic Regression, RandomForest & SVC</b>with <code>class_weight={0:1, 1:3}</code> to emphitize the importance of the malingant class (1)</li>\n",
    "            <li><b>XGBoost Classifier</b> used with <code>scale_pos_weight=3</code> to handle the imbalance, leaving its base configuration intact</li>\n",
    "        </ul>\n",
    "   </ul>\n",
    "   <p>Making those tweaks we will prioitize the detection of malignant cases (0) without lose a significant amount of performance gained on the benign class (0)</p>\n",
    "   </div>\n",
    "   \n",
    "   Function path $\\rightarrow$ *'./utils/training_funcs'* "
   ]
  },
  {
   "cell_type": "code",
   "execution_count": 9,
   "metadata": {},
   "outputs": [
    {
     "name": "stdout",
     "output_type": "stream",
     "text": [
      "Fitting 5 folds for each of 100 candidates, totalling 500 fits\n",
      "- Best SCORE:0.9823529411764707\n",
      "-*- the performance score performance is acceptable-*-\n",
      "- Best params:\n",
      "{'stacking__xgb__n_estimators': 200, 'stacking__xgb__max_depth': 3, 'stacking__xgb__learning_rate': 0.3, 'stacking__rf__n_estimators': 100, 'stacking__rf__max_depth': None, 'stacking__lr__C': 0.1, 'stacking__final_estimator__C': 10}, performance acceptable\n",
      "✅ SUCCESS: model saved in -> ../models/stacking_model_14.pkl\n"
     ]
    }
   ],
   "source": [
    "# model saving path -> '../models/stacking_model_##.pkl' \n",
    "training_results, xy, df_balanced = (\n",
    "    training.stacking_model_training(\n",
    "        df= df_raw,\n",
    "        target_col= 'diagnosis',\n",
    "        output_file_name= 'stacking_model_14',\n",
    "        pca_n_components= 10, # K = 10 founded in the previous notebook\n",
    "        return_df= True,\n",
    "        cv_n_iters= 100)\n",
    "    )\n",
    "\n",
    "X_test  = xy['X_test']\n",
    "y_test  = xy['y_test']\n",
    "\n",
    "df_balanced = df_balanced.rename(columns= {'target_column': 'diagnosis'})"
   ]
  },
  {
   "cell_type": "markdown",
   "metadata": {},
   "source": [
    "*accuracy is around $94.7$%, **ROC AUC** is $99.2$%, and **recall** for the malignant class (1) is $92.98$%.*\n",
    "\n",
    "* *The classification report shows balanced precision and recall for both classes*\n",
    "    * *These are strong indicators, especially the high **ROC AUC**, which suggests excellent discrimination between classes*\n",
    "    * *The recall for the malignant class is crucial here because missing a malignant tumor (FN) is more critical than a FN*\n",
    "    * *However, $92.98$% is still good, but there might be room for improvement*"
   ]
  },
  {
   "cell_type": "code",
   "execution_count": 10,
   "metadata": {},
   "outputs": [
    {
     "data": {
      "text/html": [
       "<div>\n",
       "<style scoped>\n",
       "    .dataframe tbody tr th:only-of-type {\n",
       "        vertical-align: middle;\n",
       "    }\n",
       "\n",
       "    .dataframe tbody tr th {\n",
       "        vertical-align: top;\n",
       "    }\n",
       "\n",
       "    .dataframe thead th {\n",
       "        text-align: right;\n",
       "    }\n",
       "</style>\n",
       "<table border=\"1\" class=\"dataframe\">\n",
       "  <thead>\n",
       "    <tr style=\"text-align: right;\">\n",
       "      <th></th>\n",
       "      <th>PC_1</th>\n",
       "      <th>PC_2</th>\n",
       "      <th>PC_3</th>\n",
       "      <th>PC_4</th>\n",
       "      <th>PC_5</th>\n",
       "      <th>PC_6</th>\n",
       "      <th>PC_7</th>\n",
       "      <th>PC_8</th>\n",
       "      <th>PC_9</th>\n",
       "      <th>PC_10</th>\n",
       "      <th>diagnosis</th>\n",
       "    </tr>\n",
       "  </thead>\n",
       "  <tbody>\n",
       "    <tr>\n",
       "      <th>0</th>\n",
       "      <td>-1.477184</td>\n",
       "      <td>-2.451403</td>\n",
       "      <td>-0.893325</td>\n",
       "      <td>1.476884</td>\n",
       "      <td>0.160196</td>\n",
       "      <td>0.208723</td>\n",
       "      <td>-0.561867</td>\n",
       "      <td>-0.141684</td>\n",
       "      <td>-0.332577</td>\n",
       "      <td>0.393456</td>\n",
       "      <td>1</td>\n",
       "    </tr>\n",
       "    <tr>\n",
       "      <th>1</th>\n",
       "      <td>-3.190568</td>\n",
       "      <td>0.212680</td>\n",
       "      <td>0.042603</td>\n",
       "      <td>-2.511736</td>\n",
       "      <td>-0.572844</td>\n",
       "      <td>-0.052576</td>\n",
       "      <td>1.082817</td>\n",
       "      <td>-0.015232</td>\n",
       "      <td>0.619042</td>\n",
       "      <td>0.259248</td>\n",
       "      <td>0</td>\n",
       "    </tr>\n",
       "    <tr>\n",
       "      <th>2</th>\n",
       "      <td>-2.114533</td>\n",
       "      <td>0.181793</td>\n",
       "      <td>2.489520</td>\n",
       "      <td>1.470261</td>\n",
       "      <td>1.665178</td>\n",
       "      <td>0.967887</td>\n",
       "      <td>-0.831456</td>\n",
       "      <td>0.013943</td>\n",
       "      <td>-0.545885</td>\n",
       "      <td>0.092203</td>\n",
       "      <td>0</td>\n",
       "    </tr>\n",
       "    <tr>\n",
       "      <th>3</th>\n",
       "      <td>3.962784</td>\n",
       "      <td>3.428284</td>\n",
       "      <td>-1.252812</td>\n",
       "      <td>0.557448</td>\n",
       "      <td>3.049767</td>\n",
       "      <td>-0.053439</td>\n",
       "      <td>0.405757</td>\n",
       "      <td>0.131580</td>\n",
       "      <td>0.619085</td>\n",
       "      <td>-0.666468</td>\n",
       "      <td>1</td>\n",
       "    </tr>\n",
       "    <tr>\n",
       "      <th>4</th>\n",
       "      <td>2.282120</td>\n",
       "      <td>-1.909881</td>\n",
       "      <td>2.414289</td>\n",
       "      <td>0.208435</td>\n",
       "      <td>0.058029</td>\n",
       "      <td>-0.875441</td>\n",
       "      <td>0.866898</td>\n",
       "      <td>-0.246693</td>\n",
       "      <td>-0.163884</td>\n",
       "      <td>-0.349462</td>\n",
       "      <td>1</td>\n",
       "    </tr>\n",
       "    <tr>\n",
       "      <th>...</th>\n",
       "      <td>...</td>\n",
       "      <td>...</td>\n",
       "      <td>...</td>\n",
       "      <td>...</td>\n",
       "      <td>...</td>\n",
       "      <td>...</td>\n",
       "      <td>...</td>\n",
       "      <td>...</td>\n",
       "      <td>...</td>\n",
       "      <td>...</td>\n",
       "      <td>...</td>\n",
       "    </tr>\n",
       "    <tr>\n",
       "      <th>565</th>\n",
       "      <td>6.943856</td>\n",
       "      <td>-4.861975</td>\n",
       "      <td>-0.368222</td>\n",
       "      <td>-0.392074</td>\n",
       "      <td>-0.299635</td>\n",
       "      <td>-1.042118</td>\n",
       "      <td>0.420382</td>\n",
       "      <td>0.001284</td>\n",
       "      <td>-0.547047</td>\n",
       "      <td>0.438284</td>\n",
       "      <td>1</td>\n",
       "    </tr>\n",
       "    <tr>\n",
       "      <th>566</th>\n",
       "      <td>3.635992</td>\n",
       "      <td>1.256639</td>\n",
       "      <td>-2.543011</td>\n",
       "      <td>1.360423</td>\n",
       "      <td>0.100552</td>\n",
       "      <td>-0.159712</td>\n",
       "      <td>-0.637069</td>\n",
       "      <td>-0.485348</td>\n",
       "      <td>-0.122541</td>\n",
       "      <td>-0.394429</td>\n",
       "      <td>1</td>\n",
       "    </tr>\n",
       "    <tr>\n",
       "      <th>567</th>\n",
       "      <td>3.006553</td>\n",
       "      <td>-0.714906</td>\n",
       "      <td>1.801834</td>\n",
       "      <td>-0.298255</td>\n",
       "      <td>0.240574</td>\n",
       "      <td>-1.034405</td>\n",
       "      <td>0.597287</td>\n",
       "      <td>0.173995</td>\n",
       "      <td>0.133675</td>\n",
       "      <td>-0.018338</td>\n",
       "      <td>1</td>\n",
       "    </tr>\n",
       "    <tr>\n",
       "      <th>568</th>\n",
       "      <td>3.883224</td>\n",
       "      <td>-0.323587</td>\n",
       "      <td>-0.552993</td>\n",
       "      <td>-1.100622</td>\n",
       "      <td>0.287824</td>\n",
       "      <td>-0.359698</td>\n",
       "      <td>2.164175</td>\n",
       "      <td>-0.250045</td>\n",
       "      <td>-0.454591</td>\n",
       "      <td>-0.770506</td>\n",
       "      <td>1</td>\n",
       "    </tr>\n",
       "    <tr>\n",
       "      <th>569</th>\n",
       "      <td>0.363057</td>\n",
       "      <td>2.026692</td>\n",
       "      <td>-1.620158</td>\n",
       "      <td>-0.215979</td>\n",
       "      <td>-0.118214</td>\n",
       "      <td>0.255665</td>\n",
       "      <td>-0.327740</td>\n",
       "      <td>0.240556</td>\n",
       "      <td>0.119495</td>\n",
       "      <td>0.178428</td>\n",
       "      <td>1</td>\n",
       "    </tr>\n",
       "  </tbody>\n",
       "</table>\n",
       "<p>570 rows × 11 columns</p>\n",
       "</div>"
      ],
      "text/plain": [
       "         PC_1      PC_2      PC_3      PC_4      PC_5      PC_6      PC_7  \\\n",
       "0   -1.477184 -2.451403 -0.893325  1.476884  0.160196  0.208723 -0.561867   \n",
       "1   -3.190568  0.212680  0.042603 -2.511736 -0.572844 -0.052576  1.082817   \n",
       "2   -2.114533  0.181793  2.489520  1.470261  1.665178  0.967887 -0.831456   \n",
       "3    3.962784  3.428284 -1.252812  0.557448  3.049767 -0.053439  0.405757   \n",
       "4    2.282120 -1.909881  2.414289  0.208435  0.058029 -0.875441  0.866898   \n",
       "..        ...       ...       ...       ...       ...       ...       ...   \n",
       "565  6.943856 -4.861975 -0.368222 -0.392074 -0.299635 -1.042118  0.420382   \n",
       "566  3.635992  1.256639 -2.543011  1.360423  0.100552 -0.159712 -0.637069   \n",
       "567  3.006553 -0.714906  1.801834 -0.298255  0.240574 -1.034405  0.597287   \n",
       "568  3.883224 -0.323587 -0.552993 -1.100622  0.287824 -0.359698  2.164175   \n",
       "569  0.363057  2.026692 -1.620158 -0.215979 -0.118214  0.255665 -0.327740   \n",
       "\n",
       "         PC_8      PC_9     PC_10  diagnosis  \n",
       "0   -0.141684 -0.332577  0.393456          1  \n",
       "1   -0.015232  0.619042  0.259248          0  \n",
       "2    0.013943 -0.545885  0.092203          0  \n",
       "3    0.131580  0.619085 -0.666468          1  \n",
       "4   -0.246693 -0.163884 -0.349462          1  \n",
       "..        ...       ...       ...        ...  \n",
       "565  0.001284 -0.547047  0.438284          1  \n",
       "566 -0.485348 -0.122541 -0.394429          1  \n",
       "567  0.173995  0.133675 -0.018338          1  \n",
       "568 -0.250045 -0.454591 -0.770506          1  \n",
       "569  0.240556  0.119495  0.178428          1  \n",
       "\n",
       "[570 rows x 11 columns]"
      ]
     },
     "execution_count": 10,
     "metadata": {},
     "output_type": "execute_result"
    }
   ],
   "source": [
    "df_balanced"
   ]
  },
  {
   "cell_type": "markdown",
   "metadata": {},
   "source": [
    "this is the  data balanced, yay! (sorry i need some coffee ☕)"
   ]
  },
  {
   "cell_type": "code",
   "execution_count": 11,
   "metadata": {},
   "outputs": [
    {
     "data": {
      "text/html": [
       "<style>#sk-container-id-1 {color: black;background-color: white;}#sk-container-id-1 pre{padding: 0;}#sk-container-id-1 div.sk-toggleable {background-color: white;}#sk-container-id-1 label.sk-toggleable__label {cursor: pointer;display: block;width: 100%;margin-bottom: 0;padding: 0.3em;box-sizing: border-box;text-align: center;}#sk-container-id-1 label.sk-toggleable__label-arrow:before {content: \"▸\";float: left;margin-right: 0.25em;color: #696969;}#sk-container-id-1 label.sk-toggleable__label-arrow:hover:before {color: black;}#sk-container-id-1 div.sk-estimator:hover label.sk-toggleable__label-arrow:before {color: black;}#sk-container-id-1 div.sk-toggleable__content {max-height: 0;max-width: 0;overflow: hidden;text-align: left;background-color: #f0f8ff;}#sk-container-id-1 div.sk-toggleable__content pre {margin: 0.2em;color: black;border-radius: 0.25em;background-color: #f0f8ff;}#sk-container-id-1 input.sk-toggleable__control:checked~div.sk-toggleable__content {max-height: 200px;max-width: 100%;overflow: auto;}#sk-container-id-1 input.sk-toggleable__control:checked~label.sk-toggleable__label-arrow:before {content: \"▾\";}#sk-container-id-1 div.sk-estimator input.sk-toggleable__control:checked~label.sk-toggleable__label {background-color: #d4ebff;}#sk-container-id-1 div.sk-label input.sk-toggleable__control:checked~label.sk-toggleable__label {background-color: #d4ebff;}#sk-container-id-1 input.sk-hidden--visually {border: 0;clip: rect(1px 1px 1px 1px);clip: rect(1px, 1px, 1px, 1px);height: 1px;margin: -1px;overflow: hidden;padding: 0;position: absolute;width: 1px;}#sk-container-id-1 div.sk-estimator {font-family: monospace;background-color: #f0f8ff;border: 1px dotted black;border-radius: 0.25em;box-sizing: border-box;margin-bottom: 0.5em;}#sk-container-id-1 div.sk-estimator:hover {background-color: #d4ebff;}#sk-container-id-1 div.sk-parallel-item::after {content: \"\";width: 100%;border-bottom: 1px solid gray;flex-grow: 1;}#sk-container-id-1 div.sk-label:hover label.sk-toggleable__label {background-color: #d4ebff;}#sk-container-id-1 div.sk-serial::before {content: \"\";position: absolute;border-left: 1px solid gray;box-sizing: border-box;top: 0;bottom: 0;left: 50%;z-index: 0;}#sk-container-id-1 div.sk-serial {display: flex;flex-direction: column;align-items: center;background-color: white;padding-right: 0.2em;padding-left: 0.2em;position: relative;}#sk-container-id-1 div.sk-item {position: relative;z-index: 1;}#sk-container-id-1 div.sk-parallel {display: flex;align-items: stretch;justify-content: center;background-color: white;position: relative;}#sk-container-id-1 div.sk-item::before, #sk-container-id-1 div.sk-parallel-item::before {content: \"\";position: absolute;border-left: 1px solid gray;box-sizing: border-box;top: 0;bottom: 0;left: 50%;z-index: -1;}#sk-container-id-1 div.sk-parallel-item {display: flex;flex-direction: column;z-index: 1;position: relative;background-color: white;}#sk-container-id-1 div.sk-parallel-item:first-child::after {align-self: flex-end;width: 50%;}#sk-container-id-1 div.sk-parallel-item:last-child::after {align-self: flex-start;width: 50%;}#sk-container-id-1 div.sk-parallel-item:only-child::after {width: 0;}#sk-container-id-1 div.sk-dashed-wrapped {border: 1px dashed gray;margin: 0 0.4em 0.5em 0.4em;box-sizing: border-box;padding-bottom: 0.4em;background-color: white;}#sk-container-id-1 div.sk-label label {font-family: monospace;font-weight: bold;display: inline-block;line-height: 1.2em;}#sk-container-id-1 div.sk-label-container {text-align: center;}#sk-container-id-1 div.sk-container {/* jupyter's `normalize.less` sets `[hidden] { display: none; }` but bootstrap.min.css set `[hidden] { display: none !important; }` so we also need the `!important` here to be able to override the default hidden behavior on the sphinx rendered scikit-learn.org. See: https://github.com/scikit-learn/scikit-learn/issues/21755 */display: inline-block !important;position: relative;}#sk-container-id-1 div.sk-text-repr-fallback {display: none;}</style><div id=\"sk-container-id-1\" class=\"sk-top-container\"><div class=\"sk-text-repr-fallback\"><pre>Pipeline(steps=[(&#x27;scaler&#x27;, StandardScaler()), (&#x27;smote&#x27;, SMOTE(random_state=42)),\n",
       "                (&#x27;pca&#x27;, PCA(n_components=10)),\n",
       "                (&#x27;stacking&#x27;,\n",
       "                 StackingClassifier(cv=StratifiedKFold(n_splits=5, random_state=42, shuffle=True),\n",
       "                                    estimators=[(&#x27;lr&#x27;,\n",
       "                                                 LogisticRegression(C=0.1,\n",
       "                                                                    class_weight={0: 1,\n",
       "                                                                                  1: 3},\n",
       "                                                                    max_iter=10000,\n",
       "                                                                    random_state=42)),\n",
       "                                                (&#x27;xgb&#x27;,\n",
       "                                                 XGBClassifier(base_score=None,\n",
       "                                                               booster=None,\n",
       "                                                               call...\n",
       "                                                               missing=nan,\n",
       "                                                               monotone_constraints=None,\n",
       "                                                               multi_strategy=None,\n",
       "                                                               n_estimators=200,\n",
       "                                                               n_jobs=None,\n",
       "                                                               num_parallel_tree=None,\n",
       "                                                               random_state=42, ...)),\n",
       "                                                (&#x27;rf&#x27;,\n",
       "                                                 RandomForestClassifier(class_weight={0: 1,\n",
       "                                                                                      1: 3},\n",
       "                                                                        random_state=42)),\n",
       "                                                (&#x27;svc&#x27;,\n",
       "                                                 SVC(class_weight={0: 1, 1: 3},\n",
       "                                                     probability=True,\n",
       "                                                     random_state=42))],\n",
       "                                    final_estimator=LogisticRegression(C=10,\n",
       "                                                                       max_iter=20000,\n",
       "                                                                       random_state=42),\n",
       "                                    n_jobs=-1))])</pre><b>In a Jupyter environment, please rerun this cell to show the HTML representation or trust the notebook. <br />On GitHub, the HTML representation is unable to render, please try loading this page with nbviewer.org.</b></div><div class=\"sk-container\" hidden><div class=\"sk-item sk-dashed-wrapped\"><div class=\"sk-label-container\"><div class=\"sk-label sk-toggleable\"><input class=\"sk-toggleable__control sk-hidden--visually\" id=\"sk-estimator-id-1\" type=\"checkbox\" ><label for=\"sk-estimator-id-1\" class=\"sk-toggleable__label sk-toggleable__label-arrow\">Pipeline</label><div class=\"sk-toggleable__content\"><pre>Pipeline(steps=[(&#x27;scaler&#x27;, StandardScaler()), (&#x27;smote&#x27;, SMOTE(random_state=42)),\n",
       "                (&#x27;pca&#x27;, PCA(n_components=10)),\n",
       "                (&#x27;stacking&#x27;,\n",
       "                 StackingClassifier(cv=StratifiedKFold(n_splits=5, random_state=42, shuffle=True),\n",
       "                                    estimators=[(&#x27;lr&#x27;,\n",
       "                                                 LogisticRegression(C=0.1,\n",
       "                                                                    class_weight={0: 1,\n",
       "                                                                                  1: 3},\n",
       "                                                                    max_iter=10000,\n",
       "                                                                    random_state=42)),\n",
       "                                                (&#x27;xgb&#x27;,\n",
       "                                                 XGBClassifier(base_score=None,\n",
       "                                                               booster=None,\n",
       "                                                               call...\n",
       "                                                               missing=nan,\n",
       "                                                               monotone_constraints=None,\n",
       "                                                               multi_strategy=None,\n",
       "                                                               n_estimators=200,\n",
       "                                                               n_jobs=None,\n",
       "                                                               num_parallel_tree=None,\n",
       "                                                               random_state=42, ...)),\n",
       "                                                (&#x27;rf&#x27;,\n",
       "                                                 RandomForestClassifier(class_weight={0: 1,\n",
       "                                                                                      1: 3},\n",
       "                                                                        random_state=42)),\n",
       "                                                (&#x27;svc&#x27;,\n",
       "                                                 SVC(class_weight={0: 1, 1: 3},\n",
       "                                                     probability=True,\n",
       "                                                     random_state=42))],\n",
       "                                    final_estimator=LogisticRegression(C=10,\n",
       "                                                                       max_iter=20000,\n",
       "                                                                       random_state=42),\n",
       "                                    n_jobs=-1))])</pre></div></div></div><div class=\"sk-serial\"><div class=\"sk-item\"><div class=\"sk-estimator sk-toggleable\"><input class=\"sk-toggleable__control sk-hidden--visually\" id=\"sk-estimator-id-2\" type=\"checkbox\" ><label for=\"sk-estimator-id-2\" class=\"sk-toggleable__label sk-toggleable__label-arrow\">StandardScaler</label><div class=\"sk-toggleable__content\"><pre>StandardScaler()</pre></div></div></div><div class=\"sk-item\"><div class=\"sk-estimator sk-toggleable\"><input class=\"sk-toggleable__control sk-hidden--visually\" id=\"sk-estimator-id-3\" type=\"checkbox\" ><label for=\"sk-estimator-id-3\" class=\"sk-toggleable__label sk-toggleable__label-arrow\">SMOTE</label><div class=\"sk-toggleable__content\"><pre>SMOTE(random_state=42)</pre></div></div></div><div class=\"sk-item\"><div class=\"sk-estimator sk-toggleable\"><input class=\"sk-toggleable__control sk-hidden--visually\" id=\"sk-estimator-id-4\" type=\"checkbox\" ><label for=\"sk-estimator-id-4\" class=\"sk-toggleable__label sk-toggleable__label-arrow\">PCA</label><div class=\"sk-toggleable__content\"><pre>PCA(n_components=10)</pre></div></div></div><div class=\"sk-item\"><div class=\"sk-label-container\"><div class=\"sk-label sk-toggleable\"><input class=\"sk-toggleable__control sk-hidden--visually\" id=\"sk-estimator-id-5\" type=\"checkbox\" ><label for=\"sk-estimator-id-5\" class=\"sk-toggleable__label sk-toggleable__label-arrow\">stacking: StackingClassifier</label><div class=\"sk-toggleable__content\"><pre>StackingClassifier(cv=StratifiedKFold(n_splits=5, random_state=42, shuffle=True),\n",
       "                   estimators=[(&#x27;lr&#x27;,\n",
       "                                LogisticRegression(C=0.1,\n",
       "                                                   class_weight={0: 1, 1: 3},\n",
       "                                                   max_iter=10000,\n",
       "                                                   random_state=42)),\n",
       "                               (&#x27;xgb&#x27;,\n",
       "                                XGBClassifier(base_score=None, booster=None,\n",
       "                                              callbacks=None,\n",
       "                                              colsample_bylevel=None,\n",
       "                                              colsample_bynode=None,\n",
       "                                              colsample_bytree=None,\n",
       "                                              device=None,\n",
       "                                              early_stopping_rounds=None,\n",
       "                                              e...\n",
       "                                              missing=nan,\n",
       "                                              monotone_constraints=None,\n",
       "                                              multi_strategy=None,\n",
       "                                              n_estimators=200, n_jobs=None,\n",
       "                                              num_parallel_tree=None,\n",
       "                                              random_state=42, ...)),\n",
       "                               (&#x27;rf&#x27;,\n",
       "                                RandomForestClassifier(class_weight={0: 1,\n",
       "                                                                     1: 3},\n",
       "                                                       random_state=42)),\n",
       "                               (&#x27;svc&#x27;,\n",
       "                                SVC(class_weight={0: 1, 1: 3}, probability=True,\n",
       "                                    random_state=42))],\n",
       "                   final_estimator=LogisticRegression(C=10, max_iter=20000,\n",
       "                                                      random_state=42),\n",
       "                   n_jobs=-1)</pre></div></div></div><div class=\"sk-serial\"><div class=\"sk-item\"><div class=\"sk-parallel\"><div class=\"sk-parallel-item\"><div class=\"sk-item\"><div class=\"sk-label-container\"><div class=\"sk-label sk-toggleable\"><label>lr</label></div></div><div class=\"sk-serial\"><div class=\"sk-item\"><div class=\"sk-estimator sk-toggleable\"><input class=\"sk-toggleable__control sk-hidden--visually\" id=\"sk-estimator-id-6\" type=\"checkbox\" ><label for=\"sk-estimator-id-6\" class=\"sk-toggleable__label sk-toggleable__label-arrow\">LogisticRegression</label><div class=\"sk-toggleable__content\"><pre>LogisticRegression(C=0.1, class_weight={0: 1, 1: 3}, max_iter=10000,\n",
       "                   random_state=42)</pre></div></div></div></div></div></div><div class=\"sk-parallel-item\"><div class=\"sk-item\"><div class=\"sk-label-container\"><div class=\"sk-label sk-toggleable\"><label>xgb</label></div></div><div class=\"sk-serial\"><div class=\"sk-item\"><div class=\"sk-estimator sk-toggleable\"><input class=\"sk-toggleable__control sk-hidden--visually\" id=\"sk-estimator-id-7\" type=\"checkbox\" ><label for=\"sk-estimator-id-7\" class=\"sk-toggleable__label sk-toggleable__label-arrow\">XGBClassifier</label><div class=\"sk-toggleable__content\"><pre>XGBClassifier(base_score=None, booster=None, callbacks=None,\n",
       "              colsample_bylevel=None, colsample_bynode=None,\n",
       "              colsample_bytree=None, device=None, early_stopping_rounds=None,\n",
       "              enable_categorical=False, eval_metric=&#x27;logloss&#x27;,\n",
       "              feature_types=None, gamma=None, grow_policy=None,\n",
       "              importance_type=None, interaction_constraints=None,\n",
       "              learning_rate=0.3, max_bin=None, max_cat_threshold=None,\n",
       "              max_cat_to_onehot=None, max_delta_step=None, max_depth=3,\n",
       "              max_leaves=None, min_child_weight=None, missing=nan,\n",
       "              monotone_constraints=None, multi_strategy=None, n_estimators=200,\n",
       "              n_jobs=None, num_parallel_tree=None, random_state=42, ...)</pre></div></div></div></div></div></div><div class=\"sk-parallel-item\"><div class=\"sk-item\"><div class=\"sk-label-container\"><div class=\"sk-label sk-toggleable\"><label>rf</label></div></div><div class=\"sk-serial\"><div class=\"sk-item\"><div class=\"sk-estimator sk-toggleable\"><input class=\"sk-toggleable__control sk-hidden--visually\" id=\"sk-estimator-id-8\" type=\"checkbox\" ><label for=\"sk-estimator-id-8\" class=\"sk-toggleable__label sk-toggleable__label-arrow\">RandomForestClassifier</label><div class=\"sk-toggleable__content\"><pre>RandomForestClassifier(class_weight={0: 1, 1: 3}, random_state=42)</pre></div></div></div></div></div></div><div class=\"sk-parallel-item\"><div class=\"sk-item\"><div class=\"sk-label-container\"><div class=\"sk-label sk-toggleable\"><label>svc</label></div></div><div class=\"sk-serial\"><div class=\"sk-item\"><div class=\"sk-estimator sk-toggleable\"><input class=\"sk-toggleable__control sk-hidden--visually\" id=\"sk-estimator-id-9\" type=\"checkbox\" ><label for=\"sk-estimator-id-9\" class=\"sk-toggleable__label sk-toggleable__label-arrow\">SVC</label><div class=\"sk-toggleable__content\"><pre>SVC(class_weight={0: 1, 1: 3}, probability=True, random_state=42)</pre></div></div></div></div></div></div></div></div><div class=\"sk-item\"><div class=\"sk-parallel\"><div class=\"sk-parallel-item\"><div class=\"sk-item\"><div class=\"sk-label-container\"><div class=\"sk-label sk-toggleable\"><label>final_estimator</label></div></div><div class=\"sk-serial\"><div class=\"sk-item\"><div class=\"sk-estimator sk-toggleable\"><input class=\"sk-toggleable__control sk-hidden--visually\" id=\"sk-estimator-id-10\" type=\"checkbox\" ><label for=\"sk-estimator-id-10\" class=\"sk-toggleable__label sk-toggleable__label-arrow\">LogisticRegression</label><div class=\"sk-toggleable__content\"><pre>LogisticRegression(C=10, max_iter=20000, random_state=42)</pre></div></div></div></div></div></div></div></div></div></div></div></div></div></div>"
      ],
      "text/plain": [
       "Pipeline(steps=[('scaler', StandardScaler()), ('smote', SMOTE(random_state=42)),\n",
       "                ('pca', PCA(n_components=10)),\n",
       "                ('stacking',\n",
       "                 StackingClassifier(cv=StratifiedKFold(n_splits=5, random_state=42, shuffle=True),\n",
       "                                    estimators=[('lr',\n",
       "                                                 LogisticRegression(C=0.1,\n",
       "                                                                    class_weight={0: 1,\n",
       "                                                                                  1: 3},\n",
       "                                                                    max_iter=10000,\n",
       "                                                                    random_state=42)),\n",
       "                                                ('xgb',\n",
       "                                                 XGBClassifier(base_score=None,\n",
       "                                                               booster=None,\n",
       "                                                               call...\n",
       "                                                               missing=nan,\n",
       "                                                               monotone_constraints=None,\n",
       "                                                               multi_strategy=None,\n",
       "                                                               n_estimators=200,\n",
       "                                                               n_jobs=None,\n",
       "                                                               num_parallel_tree=None,\n",
       "                                                               random_state=42, ...)),\n",
       "                                                ('rf',\n",
       "                                                 RandomForestClassifier(class_weight={0: 1,\n",
       "                                                                                      1: 3},\n",
       "                                                                        random_state=42)),\n",
       "                                                ('svc',\n",
       "                                                 SVC(class_weight={0: 1, 1: 3},\n",
       "                                                     probability=True,\n",
       "                                                     random_state=42))],\n",
       "                                    final_estimator=LogisticRegression(C=10,\n",
       "                                                                       max_iter=20000,\n",
       "                                                                       random_state=42),\n",
       "                                    n_jobs=-1))])"
      ]
     },
     "execution_count": 11,
     "metadata": {},
     "output_type": "execute_result"
    }
   ],
   "source": [
    "staking_model = training_results['stacking_pipeline']\n",
    "staking_model"
   ]
  },
  {
   "cell_type": "code",
   "execution_count": 12,
   "metadata": {},
   "outputs": [
    {
     "data": {
      "text/plain": [
       "{'stacking__xgb__n_estimators': 200,\n",
       " 'stacking__xgb__max_depth': 3,\n",
       " 'stacking__xgb__learning_rate': 0.3,\n",
       " 'stacking__rf__n_estimators': 100,\n",
       " 'stacking__rf__max_depth': None,\n",
       " 'stacking__lr__C': 0.1,\n",
       " 'stacking__final_estimator__C': 10}"
      ]
     },
     "execution_count": 12,
     "metadata": {},
     "output_type": "execute_result"
    }
   ],
   "source": [
    "training_results['params']"
   ]
  },
  {
   "cell_type": "markdown",
   "metadata": {},
   "source": [
    "## (2.2) validate model performance"
   ]
  },
  {
   "cell_type": "code",
   "execution_count": 13,
   "metadata": {},
   "outputs": [
    {
     "name": "stdout",
     "output_type": "stream",
     "text": [
      "ACCURACY : 0.9736842105263158\n",
      "ROC AUC : 0.996031746031746\n",
      "RECALL : 0.9523809523809523\n",
      "CLASSIFICATION REPORT : \n",
      "              precision    recall  f1-score   support\n",
      "\n",
      "      benign       0.97      0.99      0.98        72\n",
      "   malignant       0.98      0.95      0.96        42\n",
      "\n",
      "    accuracy                           0.97       114\n",
      "   macro avg       0.97      0.97      0.97       114\n",
      "weighted avg       0.97      0.97      0.97       114\n",
      "\n"
     ]
    }
   ],
   "source": [
    "for item in training_results['metrics']:\n",
    "    print(f'{item} : {training_results[\"metrics\"][item]}')"
   ]
  },
  {
   "cell_type": "code",
   "execution_count": 14,
   "metadata": {},
   "outputs": [
    {
     "data": {
      "text/plain": [
       "diagnosis\n",
       "1    285\n",
       "0    285\n",
       "Name: count, dtype: int64"
      ]
     },
     "execution_count": 14,
     "metadata": {},
     "output_type": "execute_result"
    }
   ],
   "source": [
    "df_balanced['diagnosis'].value_counts()"
   ]
  },
  {
   "cell_type": "code",
   "execution_count": 15,
   "metadata": {},
   "outputs": [
    {
     "data": {
      "text/html": [
       "<style>#sk-container-id-2 {color: black;background-color: white;}#sk-container-id-2 pre{padding: 0;}#sk-container-id-2 div.sk-toggleable {background-color: white;}#sk-container-id-2 label.sk-toggleable__label {cursor: pointer;display: block;width: 100%;margin-bottom: 0;padding: 0.3em;box-sizing: border-box;text-align: center;}#sk-container-id-2 label.sk-toggleable__label-arrow:before {content: \"▸\";float: left;margin-right: 0.25em;color: #696969;}#sk-container-id-2 label.sk-toggleable__label-arrow:hover:before {color: black;}#sk-container-id-2 div.sk-estimator:hover label.sk-toggleable__label-arrow:before {color: black;}#sk-container-id-2 div.sk-toggleable__content {max-height: 0;max-width: 0;overflow: hidden;text-align: left;background-color: #f0f8ff;}#sk-container-id-2 div.sk-toggleable__content pre {margin: 0.2em;color: black;border-radius: 0.25em;background-color: #f0f8ff;}#sk-container-id-2 input.sk-toggleable__control:checked~div.sk-toggleable__content {max-height: 200px;max-width: 100%;overflow: auto;}#sk-container-id-2 input.sk-toggleable__control:checked~label.sk-toggleable__label-arrow:before {content: \"▾\";}#sk-container-id-2 div.sk-estimator input.sk-toggleable__control:checked~label.sk-toggleable__label {background-color: #d4ebff;}#sk-container-id-2 div.sk-label input.sk-toggleable__control:checked~label.sk-toggleable__label {background-color: #d4ebff;}#sk-container-id-2 input.sk-hidden--visually {border: 0;clip: rect(1px 1px 1px 1px);clip: rect(1px, 1px, 1px, 1px);height: 1px;margin: -1px;overflow: hidden;padding: 0;position: absolute;width: 1px;}#sk-container-id-2 div.sk-estimator {font-family: monospace;background-color: #f0f8ff;border: 1px dotted black;border-radius: 0.25em;box-sizing: border-box;margin-bottom: 0.5em;}#sk-container-id-2 div.sk-estimator:hover {background-color: #d4ebff;}#sk-container-id-2 div.sk-parallel-item::after {content: \"\";width: 100%;border-bottom: 1px solid gray;flex-grow: 1;}#sk-container-id-2 div.sk-label:hover label.sk-toggleable__label {background-color: #d4ebff;}#sk-container-id-2 div.sk-serial::before {content: \"\";position: absolute;border-left: 1px solid gray;box-sizing: border-box;top: 0;bottom: 0;left: 50%;z-index: 0;}#sk-container-id-2 div.sk-serial {display: flex;flex-direction: column;align-items: center;background-color: white;padding-right: 0.2em;padding-left: 0.2em;position: relative;}#sk-container-id-2 div.sk-item {position: relative;z-index: 1;}#sk-container-id-2 div.sk-parallel {display: flex;align-items: stretch;justify-content: center;background-color: white;position: relative;}#sk-container-id-2 div.sk-item::before, #sk-container-id-2 div.sk-parallel-item::before {content: \"\";position: absolute;border-left: 1px solid gray;box-sizing: border-box;top: 0;bottom: 0;left: 50%;z-index: -1;}#sk-container-id-2 div.sk-parallel-item {display: flex;flex-direction: column;z-index: 1;position: relative;background-color: white;}#sk-container-id-2 div.sk-parallel-item:first-child::after {align-self: flex-end;width: 50%;}#sk-container-id-2 div.sk-parallel-item:last-child::after {align-self: flex-start;width: 50%;}#sk-container-id-2 div.sk-parallel-item:only-child::after {width: 0;}#sk-container-id-2 div.sk-dashed-wrapped {border: 1px dashed gray;margin: 0 0.4em 0.5em 0.4em;box-sizing: border-box;padding-bottom: 0.4em;background-color: white;}#sk-container-id-2 div.sk-label label {font-family: monospace;font-weight: bold;display: inline-block;line-height: 1.2em;}#sk-container-id-2 div.sk-label-container {text-align: center;}#sk-container-id-2 div.sk-container {/* jupyter's `normalize.less` sets `[hidden] { display: none; }` but bootstrap.min.css set `[hidden] { display: none !important; }` so we also need the `!important` here to be able to override the default hidden behavior on the sphinx rendered scikit-learn.org. See: https://github.com/scikit-learn/scikit-learn/issues/21755 */display: inline-block !important;position: relative;}#sk-container-id-2 div.sk-text-repr-fallback {display: none;}</style><div id=\"sk-container-id-2\" class=\"sk-top-container\"><div class=\"sk-text-repr-fallback\"><pre>Pipeline(steps=[(&#x27;scaler&#x27;, StandardScaler()), (&#x27;smote&#x27;, SMOTE(random_state=42)),\n",
       "                (&#x27;pca&#x27;, PCA(n_components=10)),\n",
       "                (&#x27;stacking&#x27;,\n",
       "                 StackingClassifier(cv=StratifiedKFold(n_splits=5, random_state=42, shuffle=True),\n",
       "                                    estimators=[(&#x27;lr&#x27;,\n",
       "                                                 LogisticRegression(C=0.1,\n",
       "                                                                    class_weight={0: 1,\n",
       "                                                                                  1: 3},\n",
       "                                                                    max_iter=10000,\n",
       "                                                                    random_state=42)),\n",
       "                                                (&#x27;xgb&#x27;,\n",
       "                                                 XGBClassifier(base_score=None,\n",
       "                                                               booster=None,\n",
       "                                                               call...\n",
       "                                                               missing=nan,\n",
       "                                                               monotone_constraints=None,\n",
       "                                                               multi_strategy=None,\n",
       "                                                               n_estimators=200,\n",
       "                                                               n_jobs=None,\n",
       "                                                               num_parallel_tree=None,\n",
       "                                                               random_state=42, ...)),\n",
       "                                                (&#x27;rf&#x27;,\n",
       "                                                 RandomForestClassifier(class_weight={0: 1,\n",
       "                                                                                      1: 3},\n",
       "                                                                        random_state=42)),\n",
       "                                                (&#x27;svc&#x27;,\n",
       "                                                 SVC(class_weight={0: 1, 1: 3},\n",
       "                                                     probability=True,\n",
       "                                                     random_state=42))],\n",
       "                                    final_estimator=LogisticRegression(C=10,\n",
       "                                                                       max_iter=20000,\n",
       "                                                                       random_state=42),\n",
       "                                    n_jobs=-1))])</pre><b>In a Jupyter environment, please rerun this cell to show the HTML representation or trust the notebook. <br />On GitHub, the HTML representation is unable to render, please try loading this page with nbviewer.org.</b></div><div class=\"sk-container\" hidden><div class=\"sk-item sk-dashed-wrapped\"><div class=\"sk-label-container\"><div class=\"sk-label sk-toggleable\"><input class=\"sk-toggleable__control sk-hidden--visually\" id=\"sk-estimator-id-11\" type=\"checkbox\" ><label for=\"sk-estimator-id-11\" class=\"sk-toggleable__label sk-toggleable__label-arrow\">Pipeline</label><div class=\"sk-toggleable__content\"><pre>Pipeline(steps=[(&#x27;scaler&#x27;, StandardScaler()), (&#x27;smote&#x27;, SMOTE(random_state=42)),\n",
       "                (&#x27;pca&#x27;, PCA(n_components=10)),\n",
       "                (&#x27;stacking&#x27;,\n",
       "                 StackingClassifier(cv=StratifiedKFold(n_splits=5, random_state=42, shuffle=True),\n",
       "                                    estimators=[(&#x27;lr&#x27;,\n",
       "                                                 LogisticRegression(C=0.1,\n",
       "                                                                    class_weight={0: 1,\n",
       "                                                                                  1: 3},\n",
       "                                                                    max_iter=10000,\n",
       "                                                                    random_state=42)),\n",
       "                                                (&#x27;xgb&#x27;,\n",
       "                                                 XGBClassifier(base_score=None,\n",
       "                                                               booster=None,\n",
       "                                                               call...\n",
       "                                                               missing=nan,\n",
       "                                                               monotone_constraints=None,\n",
       "                                                               multi_strategy=None,\n",
       "                                                               n_estimators=200,\n",
       "                                                               n_jobs=None,\n",
       "                                                               num_parallel_tree=None,\n",
       "                                                               random_state=42, ...)),\n",
       "                                                (&#x27;rf&#x27;,\n",
       "                                                 RandomForestClassifier(class_weight={0: 1,\n",
       "                                                                                      1: 3},\n",
       "                                                                        random_state=42)),\n",
       "                                                (&#x27;svc&#x27;,\n",
       "                                                 SVC(class_weight={0: 1, 1: 3},\n",
       "                                                     probability=True,\n",
       "                                                     random_state=42))],\n",
       "                                    final_estimator=LogisticRegression(C=10,\n",
       "                                                                       max_iter=20000,\n",
       "                                                                       random_state=42),\n",
       "                                    n_jobs=-1))])</pre></div></div></div><div class=\"sk-serial\"><div class=\"sk-item\"><div class=\"sk-estimator sk-toggleable\"><input class=\"sk-toggleable__control sk-hidden--visually\" id=\"sk-estimator-id-12\" type=\"checkbox\" ><label for=\"sk-estimator-id-12\" class=\"sk-toggleable__label sk-toggleable__label-arrow\">StandardScaler</label><div class=\"sk-toggleable__content\"><pre>StandardScaler()</pre></div></div></div><div class=\"sk-item\"><div class=\"sk-estimator sk-toggleable\"><input class=\"sk-toggleable__control sk-hidden--visually\" id=\"sk-estimator-id-13\" type=\"checkbox\" ><label for=\"sk-estimator-id-13\" class=\"sk-toggleable__label sk-toggleable__label-arrow\">SMOTE</label><div class=\"sk-toggleable__content\"><pre>SMOTE(random_state=42)</pre></div></div></div><div class=\"sk-item\"><div class=\"sk-estimator sk-toggleable\"><input class=\"sk-toggleable__control sk-hidden--visually\" id=\"sk-estimator-id-14\" type=\"checkbox\" ><label for=\"sk-estimator-id-14\" class=\"sk-toggleable__label sk-toggleable__label-arrow\">PCA</label><div class=\"sk-toggleable__content\"><pre>PCA(n_components=10)</pre></div></div></div><div class=\"sk-item\"><div class=\"sk-label-container\"><div class=\"sk-label sk-toggleable\"><input class=\"sk-toggleable__control sk-hidden--visually\" id=\"sk-estimator-id-15\" type=\"checkbox\" ><label for=\"sk-estimator-id-15\" class=\"sk-toggleable__label sk-toggleable__label-arrow\">stacking: StackingClassifier</label><div class=\"sk-toggleable__content\"><pre>StackingClassifier(cv=StratifiedKFold(n_splits=5, random_state=42, shuffle=True),\n",
       "                   estimators=[(&#x27;lr&#x27;,\n",
       "                                LogisticRegression(C=0.1,\n",
       "                                                   class_weight={0: 1, 1: 3},\n",
       "                                                   max_iter=10000,\n",
       "                                                   random_state=42)),\n",
       "                               (&#x27;xgb&#x27;,\n",
       "                                XGBClassifier(base_score=None, booster=None,\n",
       "                                              callbacks=None,\n",
       "                                              colsample_bylevel=None,\n",
       "                                              colsample_bynode=None,\n",
       "                                              colsample_bytree=None,\n",
       "                                              device=None,\n",
       "                                              early_stopping_rounds=None,\n",
       "                                              e...\n",
       "                                              missing=nan,\n",
       "                                              monotone_constraints=None,\n",
       "                                              multi_strategy=None,\n",
       "                                              n_estimators=200, n_jobs=None,\n",
       "                                              num_parallel_tree=None,\n",
       "                                              random_state=42, ...)),\n",
       "                               (&#x27;rf&#x27;,\n",
       "                                RandomForestClassifier(class_weight={0: 1,\n",
       "                                                                     1: 3},\n",
       "                                                       random_state=42)),\n",
       "                               (&#x27;svc&#x27;,\n",
       "                                SVC(class_weight={0: 1, 1: 3}, probability=True,\n",
       "                                    random_state=42))],\n",
       "                   final_estimator=LogisticRegression(C=10, max_iter=20000,\n",
       "                                                      random_state=42),\n",
       "                   n_jobs=-1)</pre></div></div></div><div class=\"sk-serial\"><div class=\"sk-item\"><div class=\"sk-parallel\"><div class=\"sk-parallel-item\"><div class=\"sk-item\"><div class=\"sk-label-container\"><div class=\"sk-label sk-toggleable\"><label>lr</label></div></div><div class=\"sk-serial\"><div class=\"sk-item\"><div class=\"sk-estimator sk-toggleable\"><input class=\"sk-toggleable__control sk-hidden--visually\" id=\"sk-estimator-id-16\" type=\"checkbox\" ><label for=\"sk-estimator-id-16\" class=\"sk-toggleable__label sk-toggleable__label-arrow\">LogisticRegression</label><div class=\"sk-toggleable__content\"><pre>LogisticRegression(C=0.1, class_weight={0: 1, 1: 3}, max_iter=10000,\n",
       "                   random_state=42)</pre></div></div></div></div></div></div><div class=\"sk-parallel-item\"><div class=\"sk-item\"><div class=\"sk-label-container\"><div class=\"sk-label sk-toggleable\"><label>xgb</label></div></div><div class=\"sk-serial\"><div class=\"sk-item\"><div class=\"sk-estimator sk-toggleable\"><input class=\"sk-toggleable__control sk-hidden--visually\" id=\"sk-estimator-id-17\" type=\"checkbox\" ><label for=\"sk-estimator-id-17\" class=\"sk-toggleable__label sk-toggleable__label-arrow\">XGBClassifier</label><div class=\"sk-toggleable__content\"><pre>XGBClassifier(base_score=None, booster=None, callbacks=None,\n",
       "              colsample_bylevel=None, colsample_bynode=None,\n",
       "              colsample_bytree=None, device=None, early_stopping_rounds=None,\n",
       "              enable_categorical=False, eval_metric=&#x27;logloss&#x27;,\n",
       "              feature_types=None, gamma=None, grow_policy=None,\n",
       "              importance_type=None, interaction_constraints=None,\n",
       "              learning_rate=0.3, max_bin=None, max_cat_threshold=None,\n",
       "              max_cat_to_onehot=None, max_delta_step=None, max_depth=3,\n",
       "              max_leaves=None, min_child_weight=None, missing=nan,\n",
       "              monotone_constraints=None, multi_strategy=None, n_estimators=200,\n",
       "              n_jobs=None, num_parallel_tree=None, random_state=42, ...)</pre></div></div></div></div></div></div><div class=\"sk-parallel-item\"><div class=\"sk-item\"><div class=\"sk-label-container\"><div class=\"sk-label sk-toggleable\"><label>rf</label></div></div><div class=\"sk-serial\"><div class=\"sk-item\"><div class=\"sk-estimator sk-toggleable\"><input class=\"sk-toggleable__control sk-hidden--visually\" id=\"sk-estimator-id-18\" type=\"checkbox\" ><label for=\"sk-estimator-id-18\" class=\"sk-toggleable__label sk-toggleable__label-arrow\">RandomForestClassifier</label><div class=\"sk-toggleable__content\"><pre>RandomForestClassifier(class_weight={0: 1, 1: 3}, random_state=42)</pre></div></div></div></div></div></div><div class=\"sk-parallel-item\"><div class=\"sk-item\"><div class=\"sk-label-container\"><div class=\"sk-label sk-toggleable\"><label>svc</label></div></div><div class=\"sk-serial\"><div class=\"sk-item\"><div class=\"sk-estimator sk-toggleable\"><input class=\"sk-toggleable__control sk-hidden--visually\" id=\"sk-estimator-id-19\" type=\"checkbox\" ><label for=\"sk-estimator-id-19\" class=\"sk-toggleable__label sk-toggleable__label-arrow\">SVC</label><div class=\"sk-toggleable__content\"><pre>SVC(class_weight={0: 1, 1: 3}, probability=True, random_state=42)</pre></div></div></div></div></div></div></div></div><div class=\"sk-item\"><div class=\"sk-parallel\"><div class=\"sk-parallel-item\"><div class=\"sk-item\"><div class=\"sk-label-container\"><div class=\"sk-label sk-toggleable\"><label>final_estimator</label></div></div><div class=\"sk-serial\"><div class=\"sk-item\"><div class=\"sk-estimator sk-toggleable\"><input class=\"sk-toggleable__control sk-hidden--visually\" id=\"sk-estimator-id-20\" type=\"checkbox\" ><label for=\"sk-estimator-id-20\" class=\"sk-toggleable__label sk-toggleable__label-arrow\">LogisticRegression</label><div class=\"sk-toggleable__content\"><pre>LogisticRegression(C=10, max_iter=20000, random_state=42)</pre></div></div></div></div></div></div></div></div></div></div></div></div></div></div>"
      ],
      "text/plain": [
       "Pipeline(steps=[('scaler', StandardScaler()), ('smote', SMOTE(random_state=42)),\n",
       "                ('pca', PCA(n_components=10)),\n",
       "                ('stacking',\n",
       "                 StackingClassifier(cv=StratifiedKFold(n_splits=5, random_state=42, shuffle=True),\n",
       "                                    estimators=[('lr',\n",
       "                                                 LogisticRegression(C=0.1,\n",
       "                                                                    class_weight={0: 1,\n",
       "                                                                                  1: 3},\n",
       "                                                                    max_iter=10000,\n",
       "                                                                    random_state=42)),\n",
       "                                                ('xgb',\n",
       "                                                 XGBClassifier(base_score=None,\n",
       "                                                               booster=None,\n",
       "                                                               call...\n",
       "                                                               missing=nan,\n",
       "                                                               monotone_constraints=None,\n",
       "                                                               multi_strategy=None,\n",
       "                                                               n_estimators=200,\n",
       "                                                               n_jobs=None,\n",
       "                                                               num_parallel_tree=None,\n",
       "                                                               random_state=42, ...)),\n",
       "                                                ('rf',\n",
       "                                                 RandomForestClassifier(class_weight={0: 1,\n",
       "                                                                                      1: 3},\n",
       "                                                                        random_state=42)),\n",
       "                                                ('svc',\n",
       "                                                 SVC(class_weight={0: 1, 1: 3},\n",
       "                                                     probability=True,\n",
       "                                                     random_state=42))],\n",
       "                                    final_estimator=LogisticRegression(C=10,\n",
       "                                                                       max_iter=20000,\n",
       "                                                                       random_state=42),\n",
       "                                    n_jobs=-1))])"
      ]
     },
     "execution_count": 15,
     "metadata": {},
     "output_type": "execute_result"
    }
   ],
   "source": [
    "model_04 = joblib.load(f'../models/stacking_model_14.pkl')\n",
    "model_04"
   ]
  },
  {
   "cell_type": "markdown",
   "metadata": {},
   "source": [
    "### results\n",
    "<div class=\"alert alert-success\">\n",
    "    <b style=\"font-size: 1.5em;\">✅ Success: model recall performance higher than 95%</b>\n",
    "    <p>Thanks to these adjustments & an appropiate configuration of class weights, the malignant class recall raised to 95% (making sure that ther is not data leakage, obtaining 95% of recall, and overall 96% accuracy) & <b>ROC AUC higher than 98%</b></p>"
   ]
  },
  {
   "cell_type": "markdown",
   "metadata": {},
   "source": [
    "### (2.1.1) predicition"
   ]
  },
  {
   "cell_type": "code",
   "execution_count": 16,
   "metadata": {},
   "outputs": [
    {
     "name": "stdout",
     "output_type": "stream",
     "text": [
      "df_new_data shape: (1, 30)\n",
      "Prediction: MALIGNANT :O\n",
      "- Malignant Probability: 98.90%\n",
      "- Benign Probability: 1.10%\n"
     ]
    }
   ],
   "source": [
    "# prediction with new data\n",
    "\n",
    "path = '../models/stacking_model_14.pkl'\n",
    "model_11 = joblib.load(path)\n",
    "model_11.set_params(smote= 'passthrough') # ignore the smote step\n",
    "\n",
    "# new data for prediction and columns ordered as in training\n",
    "new_data         = list_dict.new_data_for_prediction\n",
    "original_columns = list_dict.column_names_in_training\n",
    "\n",
    "df_new_data = pd.DataFrame([new_data], columns= original_columns)\n",
    "print(f'df_new_data shape: {df_new_data.shape}')\n",
    "\n",
    "pred = model_11.predict(df_new_data)\n",
    "\n",
    "\n",
    "probabilities = model_11.predict_proba(df_new_data)[0]# malignant probability[0]\n",
    "prob_benign    = probabilities[0]\n",
    "prob_malignant = probabilities[1]\n",
    "\n",
    "print(f'Prediction: {\"MALIGNANT :O\" if pred[0] == 1 else \"BENIGN :D\"}')\n",
    "print(f'- Malignant Probability: {prob_malignant:.2%}\\n- Benign Probability: {prob_benign:.2%}')\n"
   ]
  },
  {
   "cell_type": "markdown",
   "metadata": {},
   "source": [
    "prediction successfuly made"
   ]
  },
  {
   "cell_type": "markdown",
   "metadata": {},
   "source": [
    "## (2.2) Deployment Strategy"
   ]
  },
  {
   "cell_type": "markdown",
   "metadata": {},
   "source": [
    "<div class=\"alert alert-info\">\n",
    "    <b style=\"font-size: 1.8em;\">Simulation: Real-World Measurements for Tumor Classification</b>\n",
    "    <p> In real-world scenarios, tumor measurements (such as those obtained via mammography or ultrasound) are not captured as a single value per attribute. Instead, multiple readings are taken from different angles or at different times, providing a more comprehensive picture of the tumor's characteristics.</p>\n",
    "    <p> To better simulate this process in our application, the user will be asked to input several measurements (ideally between 5 and 10) for each base attribute. These base attributes include:</p>\n",
    "    <ul> \n",
    "        <li>radius, perimeter, area, smoothness, compactness, concavity, concave points, symmetry, fractal dimension</li>\n",
    "    </ul>\n",
    "    <p> For each attribute, the application will automatically compute three key metrics:</p>\n",
    "    <ul> <li><b>Mean:</b> The average of the measurements.</li>\n",
    "    <li><b>Standard Error (SE):</b> The standard deviation divided by the square root of the number of measurements, reflecting the variability in the readings.</li>\n",
    "    <li><b>Worst:</b> Typically, the average of the three highest values, which captures the most extreme measurement that might be clinically significant.</li>\n",
    "    </ul>\n",
    "    <p> This approach not only mirrors the variability and complexity of real-world measurements but also ensures that the input provided to our model represents a robust summary of the tumor’s characteristics. </p>\n",
    "    <p> <b>Additional Considerations:</b></p>\n",
    "    <ol>\n",
    "        <li> <b>Input Validation:</b> The application will validate that the user inputs are numeric and that the number of measurements per attribute is within the expected range. If the values deviate significantly from realistic ranges—derived from clinical data—the user will receive a clear error message prompting them to re-check their entries</li>\n",
    "        <li> <b>Realistic Ranges:</b> Each attribute has an expected range (e.g., radius: 0–50 mm, perimeter: 0–150 mm, area: 0–2500 mm², and adimensional attributes typically between 0 and 1). These ranges help flag any out-of-bound entries</li>\n",
    "        <li> <b>Data Distribution and Correlation:</b> Some attributes (such as radius and perimeter) are naturally correlated. Our interface and validation logic will consider these relationships, ensuring that the aggregated inputs make clinical sense</li>\n",
    "        <li> <b>Handling of Repeated Values:</b> It is realistic for some measurements to be very similar or even identical due to instrument precision or tumor homogeneity. The system will compute the metrics regardless, while also alerting the user if the lack of variability might indicate a data entry error</li>\n",
    "        <li> <b>Units of Measurement:</b> Clear instructions will be provided so that the user inputs values in the correct units (e.g., mm for radius and perimeter, mm² for area)</li>\n",
    "        </ol>\n",
    "    <p> This simulation strategy enhances the usability and clinical relevance of our application by transforming raw measurement data into the precise summary metrics (mean, SE, worst) that our model expects, ultimately improving the reliability and interpretability of the predictions.</p>\n",
    "</div>"
   ]
  },
  {
   "cell_type": "code",
   "execution_count": 17,
   "metadata": {},
   "outputs": [],
   "source": [
    "X_data_csv = {'radius'   : [12.3, 12.5, 12.1, 12.6, 12.4, 12.2, 12.7, 12.8, 12.9, 13.0],\n",
    "    'perimeter': [75.2, 76.1, 74.9, 77.0, 75.8, 74.7, 77.5, 78.0, 78.5,],\n",
    "    'area'     : [450.3, 470.3, 440.2, 480.2, 460.1, 430.1, 490.1, 500.1, 510.1, 520.1],\n",
    "    'compactness'   : [0.14, 0.26, 0.11, 0.25, 0.12, 0.14, 0.25, ],\n",
    "    'concavity'     : [0.16, 0.33, 0.12, 0.24, 0.13, 0.15, 0.21, 0.19, 0.21, 0.12],\n",
    "    'concave points': [0.14, 0.43, 0.13, 0.23, 0.15, 0.16,],\n",
    "    'symmetry'      : [0.16, 0.56, 0.15, 0.22, 0.18, 0.17, 0.23, 0.12, 0.29, 0.18],\n",
    "    'fractal dimension': [0.19, 0.4, 0.18, 0.29, 0.14, 0.16, 0.24,]\n",
    "}\n",
    "\n"
   ]
  },
  {
   "cell_type": "code",
   "execution_count": 18,
   "metadata": {},
   "outputs": [],
   "source": [
    "#analizar ruido\n",
    "\n",
    "# def analyze_noise(self, X_original, X_balanced, have_categoricals: bool = True, scale_data: bool = True):\n",
    "#    \"\"\"analize noise: measuring distances (original vs synthetic)\n",
    "#        - using KNN to calculate distances\"\"\"\n",
    "#    # encoding para el análisis del KNN\n",
    "#    if have_categoricals:\n",
    "#       X_original_ = self.encode_categoricals(X_original)\n",
    "#       X_balanced_ = self.encode_categoricals(X_balanced)\n",
    "#    else:\n",
    "#       X_original_ = X_original.copy()\n",
    "#       X_balanced_ = X_balanced.copy()\n",
    "#     # transformamos porque los resultados salen raros\n",
    "#    if scale_data:\n",
    "#       scaler = StandardScaler()\n",
    "#       X_original_scaled = scaler.fit_transform(X_original_)  # Ajuste y transformación del conjunto original\n",
    "#       X_balanced_scaled = scaler.transform(X_balanced_)      # Transformación del conjunto balanceado\n",
    "   \n",
    "#    else:\n",
    "#       X_original_scaled = X_original_\n",
    "#       X_balanced_scaled = X_balanced_\n",
    "#     # Identificar datos sintéticos\n",
    "#    synthetic_indices = self.find_synthetic_data(X_original_scaled, X_balanced_scaled)\n",
    "#    synthetic_data    = X_balanced_scaled[synthetic_indices] # sin iloc\n",
    "        \n",
    "#     # Calcular distancias con KNN\n",
    "#    knn = NearestNeighbors(n_neighbors= 5)\n",
    "#    knn.fit(X_original_scaled)                     # Ajuste con originales (scaled)\n",
    "#    distances, _ = knn.kneighbors(synthetic_data)  # Calcular distancias (sintéticos vs originales)\n",
    "        \n",
    "#    print(f\"Distancia promedio entre datos sintéticos y originales: {distances.mean():.4f}\")\n",
    "#    return distances"
   ]
  },
  {
   "cell_type": "code",
   "execution_count": 19,
   "metadata": {},
   "outputs": [],
   "source": [
    "# ver el rango de la columna 'radius_mean'\n",
    "# radius_mean_describe = pd.DataFrame(df_raw['radius_mean'].describe()).T\n",
    "# radius_mean_describe"
   ]
  },
  {
   "cell_type": "code",
   "execution_count": 20,
   "metadata": {},
   "outputs": [],
   "source": [
    "# cdf plot (Cummulative Distribution Function)\n",
    "#def cdf_calc(self, df: pd.DataFrame, col: str, quantity: int, iqr: bool= False)\n",
    "# prob.cdf_calc(df= df_raw, col= 'radius_mean', quantity= 13, iqr= True)"
   ]
  },
  {
   "cell_type": "code",
   "execution_count": 21,
   "metadata": {},
   "outputs": [],
   "source": [
    "#loader.save_dataframe(df= df_raw, file_name= 'clean_breast_disease_00', dir= 'clean')"
   ]
  },
  {
   "cell_type": "code",
   "execution_count": null,
   "metadata": {},
   "outputs": [],
   "source": []
  },
  {
   "cell_type": "code",
   "execution_count": null,
   "metadata": {},
   "outputs": [],
   "source": []
  }
 ],
 "metadata": {
  "kernelspec": {
   "display_name": "env",
   "language": "python",
   "name": "python3"
  },
  "language_info": {
   "codemirror_mode": {
    "name": "ipython",
    "version": 3
   },
   "file_extension": ".py",
   "mimetype": "text/x-python",
   "name": "python",
   "nbconvert_exporter": "python",
   "pygments_lexer": "ipython3",
   "version": "3.11.8"
  }
 },
 "nbformat": 4,
 "nbformat_minor": 2
}
